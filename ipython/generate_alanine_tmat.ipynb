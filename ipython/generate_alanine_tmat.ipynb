{
 "metadata": {
  "name": "",
  "signature": "sha256:c843284b13c700a35c612d2012e0555d9cc5bb201f9befcd18cb855987c90ac6"
 },
 "nbformat": 3,
 "nbformat_minor": 0,
 "worksheets": [
  {
   "cells": [
    {
     "cell_type": "code",
     "collapsed": false,
     "input": [
      "from mixtape.datasets.alanine_dipeptide import fetch_alanine_dipeptide"
     ],
     "language": "python",
     "metadata": {},
     "outputs": [],
     "prompt_number": 2
    },
    {
     "cell_type": "code",
     "collapsed": false,
     "input": [
      "import tempfile"
     ],
     "language": "python",
     "metadata": {},
     "outputs": [],
     "prompt_number": 6
    },
    {
     "cell_type": "code",
     "collapsed": false,
     "input": [
      "ala = fetch_alanine_dipeptide(tempfile.mkdtemp())"
     ],
     "language": "python",
     "metadata": {},
     "outputs": [
      {
       "output_type": "stream",
       "stream": "stdout",
       "text": [
        "downloading alanine dipeptide from http://downloads.figshare.com/article/public/1026131 to /tmp/tmpf2mo2yao\n"
       ]
      }
     ],
     "prompt_number": 7
    },
    {
     "cell_type": "code",
     "collapsed": false,
     "input": [
      "ala"
     ],
     "language": "python",
     "metadata": {},
     "outputs": [
      {
       "metadata": {},
       "output_type": "pyout",
       "prompt_number": 8,
       "text": [
        "{'trajectories': [<mdtraj.Trajectory with 10000 frames, 22 atoms, 3 residues, without unitcells at 0x7fef83371550>,\n",
        "  <mdtraj.Trajectory with 10000 frames, 22 atoms, 3 residues, without unitcells at 0x7fef83371160>,\n",
        "  <mdtraj.Trajectory with 10000 frames, 22 atoms, 3 residues, without unitcells at 0x7fef83371278>,\n",
        "  <mdtraj.Trajectory with 10000 frames, 22 atoms, 3 residues, without unitcells at 0x7fef83371080>,\n",
        "  <mdtraj.Trajectory with 9999 frames, 22 atoms, 3 residues, without unitcells at 0x7fef833716a0>,\n",
        "  <mdtraj.Trajectory with 10000 frames, 22 atoms, 3 residues, without unitcells at 0x7fef83371f98>,\n",
        "  <mdtraj.Trajectory with 10000 frames, 22 atoms, 3 residues, without unitcells at 0x7fef83371dd8>,\n",
        "  <mdtraj.Trajectory with 10000 frames, 22 atoms, 3 residues, without unitcells at 0x7fef83371cf8>,\n",
        "  <mdtraj.Trajectory with 10000 frames, 22 atoms, 3 residues, without unitcells at 0x7fef83371be0>,\n",
        "  <mdtraj.Trajectory with 10000 frames, 22 atoms, 3 residues, without unitcells at 0x7fef83371b38>],\n",
        " 'DESCR': 'Alanine dipeptide dataset\\n\\nThe dataset consists of ten 10ns trajectories of of alanine dipeptide,\\nsimulated using OpenMM 6.0.1 (CUDA platform, NVIDIA GTX660) with the\\nAMBER99SB-ILDN force field at 300K (langevin dynamics, friction coefficient\\nof 91/ps, timestep of 2fs) with GBSA implicit solvent. The coordinates are\\nsaved every 1ps. Each trajectory contains 9,999 snapshots.\\n\\nThe dataset, including the script used to generate the dataset\\nis available on figshare at\\n\\n    http://dx.doi.org/10.6084/m9.figshare.1026131\\n'}"
       ]
      }
     ],
     "prompt_number": 8
    },
    {
     "cell_type": "code",
     "collapsed": false,
     "input": [
      "ala.keys()"
     ],
     "language": "python",
     "metadata": {},
     "outputs": [
      {
       "metadata": {},
       "output_type": "pyout",
       "prompt_number": 9,
       "text": [
        "dict_keys(['trajectories', 'DESCR'])"
       ]
      }
     ],
     "prompt_number": 9
    },
    {
     "cell_type": "code",
     "collapsed": false,
     "input": [
      "print(ala['DESCR'])"
     ],
     "language": "python",
     "metadata": {},
     "outputs": [
      {
       "output_type": "stream",
       "stream": "stdout",
       "text": [
        "Alanine dipeptide dataset\n",
        "\n",
        "The dataset consists of ten 10ns trajectories of of alanine dipeptide,\n",
        "simulated using OpenMM 6.0.1 (CUDA platform, NVIDIA GTX660) with the\n",
        "AMBER99SB-ILDN force field at 300K (langevin dynamics, friction coefficient\n",
        "of 91/ps, timestep of 2fs) with GBSA implicit solvent. The coordinates are\n",
        "saved every 1ps. Each trajectory contains 9,999 snapshots.\n",
        "\n",
        "The dataset, including the script used to generate the dataset\n",
        "is available on figshare at\n",
        "\n",
        "    http://dx.doi.org/10.6084/m9.figshare.1026131\n",
        "\n"
       ]
      }
     ],
     "prompt_number": 11
    },
    {
     "cell_type": "code",
     "collapsed": false,
     "input": [
      "import scipy.io"
     ],
     "language": "python",
     "metadata": {},
     "outputs": [],
     "prompt_number": 12
    },
    {
     "cell_type": "code",
     "collapsed": false,
     "input": [
      "tmat1 = scipy.io.mmread(\"../reference3/ala2.mtx\")"
     ],
     "language": "python",
     "metadata": {},
     "outputs": [],
     "prompt_number": 31
    },
    {
     "cell_type": "code",
     "collapsed": false,
     "input": [
      "tmat2 = scipy.io.mmread(\"../reference4/ala2.mtx\")"
     ],
     "language": "python",
     "metadata": {},
     "outputs": [],
     "prompt_number": 32
    },
    {
     "cell_type": "code",
     "collapsed": false,
     "input": [
      "tf = tmat1.todense() - tmat2.todense() < 1e-3"
     ],
     "language": "python",
     "metadata": {},
     "outputs": [],
     "prompt_number": 37
    },
    {
     "cell_type": "code",
     "collapsed": false,
     "input": [
      "np.sum(tf)"
     ],
     "language": "python",
     "metadata": {},
     "outputs": [
      {
       "metadata": {},
       "output_type": "pyout",
       "prompt_number": 38,
       "text": [
        "232"
       ]
      }
     ],
     "prompt_number": 38
    },
    {
     "cell_type": "code",
     "collapsed": false,
     "input": [
      "20*20"
     ],
     "language": "python",
     "metadata": {},
     "outputs": [
      {
       "metadata": {},
       "output_type": "pyout",
       "prompt_number": 22,
       "text": [
        "400"
       ]
      }
     ],
     "prompt_number": 22
    },
    {
     "cell_type": "code",
     "collapsed": false,
     "input": [],
     "language": "python",
     "metadata": {},
     "outputs": []
    }
   ],
   "metadata": {}
  }
 ]
}