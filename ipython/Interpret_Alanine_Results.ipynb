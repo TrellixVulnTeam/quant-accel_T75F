{
 "metadata": {
  "name": "",
  "signature": "sha256:4c74aed685935bd93429312fe44773b03549de5e279272052ce8d9f7ceab6dfa"
 },
 "nbformat": 3,
 "nbformat_minor": 0,
 "worksheets": [
  {
   "cells": [
    {
     "cell_type": "markdown",
     "metadata": {},
     "source": [
      "# Interpret Alanine Results\n",
      "### Make sure we can load in the results and say something meaningful"
     ]
    },
    {
     "cell_type": "code",
     "collapsed": false,
     "input": [
      "cd ~/projects/quant-accel/tmp/ala-25/"
     ],
     "language": "python",
     "metadata": {},
     "outputs": [
      {
       "output_type": "stream",
       "stream": "stdout",
       "text": [
        "/home/harrigan/projects/quant-accel/tmp/ala-25\n"
       ]
      }
     ],
     "prompt_number": 1
    },
    {
     "cell_type": "code",
     "collapsed": false,
     "input": [
      "import pickle\n",
      "import glob\n",
      "from maccelerator import PlotMaker"
     ],
     "language": "python",
     "metadata": {},
     "outputs": [],
     "prompt_number": 2
    },
    {
     "cell_type": "code",
     "collapsed": false,
     "input": [
      "with open('run.pickl', 'rb') as f:\n",
      "    run = pickle.load(f)"
     ],
     "language": "python",
     "metadata": {},
     "outputs": [],
     "prompt_number": 3
    },
    {
     "cell_type": "code",
     "collapsed": false,
     "input": [
      "run.params.spt"
     ],
     "language": "python",
     "metadata": {},
     "outputs": [
      {
       "metadata": {},
       "output_type": "pyout",
       "prompt_number": 4,
       "text": [
        "2000"
       ]
      }
     ],
     "prompt_number": 4
    },
    {
     "cell_type": "code",
     "collapsed": false,
     "input": [
      "pm = PlotMaker(run)"
     ],
     "language": "python",
     "metadata": {},
     "outputs": [],
     "prompt_number": 5
    },
    {
     "cell_type": "code",
     "collapsed": false,
     "input": [
      "convergeds = pm.load_convergences()"
     ],
     "language": "python",
     "metadata": {},
     "outputs": [],
     "prompt_number": 6
    },
    {
     "cell_type": "code",
     "collapsed": false,
     "input": [
      "conv_bools = [conv.converged for conv in convergeds]\n",
      "conv_bools"
     ],
     "language": "python",
     "metadata": {},
     "outputs": [
      {
       "metadata": {},
       "output_type": "pyout",
       "prompt_number": 7,
       "text": [
        "[False,\n",
        " False,\n",
        " True,\n",
        " True,\n",
        " True,\n",
        " True,\n",
        " True,\n",
        " True,\n",
        " True,\n",
        " True,\n",
        " True,\n",
        " True,\n",
        " True]"
       ]
      }
     ],
     "prompt_number": 7
    },
    {
     "cell_type": "code",
     "collapsed": false,
     "input": [
      "# Test case\n",
      "conv_bools = np.zeros(run.n_rounds, dtype=bool)\n",
      "conv_bools[5:] = True\n",
      "conv_bools[6] = False\n",
      "conv_bools"
     ],
     "language": "python",
     "metadata": {},
     "outputs": []
    },
    {
     "cell_type": "code",
     "collapsed": false,
     "input": [
      "# Steps\n",
      "steps = run.params.spt * np.arange(1, run.n_rounds + 1)\n",
      "steps"
     ],
     "language": "python",
     "metadata": {},
     "outputs": [
      {
       "metadata": {},
       "output_type": "pyout",
       "prompt_number": 28,
       "text": [
        "array([ 2000,  4000,  6000,  8000, 10000, 12000, 14000, 16000, 18000,\n",
        "       20000, 22000, 24000, 26000])"
       ]
      }
     ],
     "prompt_number": 28
    },
    {
     "cell_type": "code",
     "collapsed": false,
     "input": [
      "# Time since converged\n",
      "for i in range(1, run.n_rounds):\n",
      "    cum = np.cumsum(conv_bools[i:]) - 1\n",
      "    res = cum[0] * run.params.spt\n",
      "    print(conv_bools[i], res)"
     ],
     "language": "python",
     "metadata": {},
     "outputs": [
      {
       "output_type": "stream",
       "stream": "stdout",
       "text": [
        "False -2000\n",
        "False -2000\n",
        "False -2000\n",
        "False -2000\n",
        "True 0\n",
        "False -2000\n",
        "True 0\n",
        "True 0\n",
        "True 0\n",
        "True 0\n",
        "True 0\n",
        "True 0\n"
       ]
      }
     ],
     "prompt_number": 32
    },
    {
     "cell_type": "code",
     "collapsed": false,
     "input": [],
     "language": "python",
     "metadata": {},
     "outputs": []
    }
   ],
   "metadata": {}
  }
 ]
}