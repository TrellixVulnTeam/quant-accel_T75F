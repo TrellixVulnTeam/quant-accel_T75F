{
 "metadata": {
  "name": "",
  "signature": "sha256:d85fa99d6f1b520882eb2df8be08a56d386d5ba06c5b5b73c257f3dd1be0c12c"
 },
 "nbformat": 3,
 "nbformat_minor": 0,
 "worksheets": [
  {
   "cells": [
    {
     "cell_type": "markdown",
     "metadata": {},
     "source": [
      "# SubBuild\n",
      "### Find actual convergence point with greater resolution\n",
      "Sometimes saying it converged after n rounds is not enough. "
     ]
    },
    {
     "cell_type": "code",
     "collapsed": false,
     "input": [
      "cd ~/implement/quant-accel/alanine/random-initial/copy-1/blt-1_alt-1_spt-512_tpr-100/"
     ],
     "language": "python",
     "metadata": {},
     "outputs": [
      {
       "output_type": "stream",
       "stream": "stdout",
       "text": [
        "/home/harrigan/implement/quant-accel/alanine/random-initial/copy-1/blt-1_alt-1_spt-512_tpr-100\n"
       ]
      }
     ],
     "prompt_number": 1
    },
    {
     "cell_type": "code",
     "collapsed": false,
     "input": [
      "shutil.unpack_archive('trajs.tar.gz')"
     ],
     "language": "python",
     "metadata": {},
     "outputs": [],
     "prompt_number": 18
    },
    {
     "cell_type": "code",
     "collapsed": false,
     "input": [
      "import pickle\n",
      "with open('run.pickl', 'rb') as f:\n",
      "    run = pickle.load(f)"
     ],
     "language": "python",
     "metadata": {},
     "outputs": [],
     "prompt_number": 2
    },
    {
     "cell_type": "code",
     "collapsed": false,
     "input": [
      "from maccelerator import PlotMaker\n",
      "import os\n",
      "import shutil"
     ],
     "language": "python",
     "metadata": {},
     "outputs": [],
     "prompt_number": 14
    },
    {
     "cell_type": "code",
     "collapsed": false,
     "input": [
      "pm = PlotMaker(run, parallel=False)"
     ],
     "language": "python",
     "metadata": {},
     "outputs": [],
     "prompt_number": 4
    },
    {
     "cell_type": "code",
     "collapsed": false,
     "input": [
      "convs = pm.load_convergences()"
     ],
     "language": "python",
     "metadata": {},
     "outputs": [],
     "prompt_number": 5
    },
    {
     "cell_type": "code",
     "collapsed": false,
     "input": [
      "[conv.converged for conv in convs]"
     ],
     "language": "python",
     "metadata": {},
     "outputs": [
      {
       "metadata": {},
       "output_type": "pyout",
       "prompt_number": 6,
       "text": [
        "[True, True, True, True, True, True, True, True, True, True, True]"
       ]
      }
     ],
     "prompt_number": 6
    },
    {
     "cell_type": "markdown",
     "metadata": {},
     "source": [
      "## Do sub-build"
     ]
    },
    {
     "cell_type": "code",
     "collapsed": false,
     "input": [
      "step_res = 8\n",
      "n_subbuilds = run.params.spt // step_res\n",
      "assert run.params.spt % step_res == 0, 'Must divide evenly'\n",
      "print(n_subbuilds)"
     ],
     "language": "python",
     "metadata": {},
     "outputs": [
      {
       "output_type": "stream",
       "stream": "stdout",
       "text": [
        "64\n"
       ]
      }
     ],
     "prompt_number": 7
    },
    {
     "cell_type": "code",
     "collapsed": false,
     "input": [
      "def get_relpath(abspath):\n",
      "    # Get name of current directory\n",
      "    cwd = os.path.basename(os.path.abspath('.'))\n",
      "    \n",
      "    # Find that directory here\n",
      "    return abspath[abspath.find(cwd)+len(cwd)+1:]"
     ],
     "language": "python",
     "metadata": {},
     "outputs": [],
     "prompt_number": 9
    },
    {
     "cell_type": "code",
     "collapsed": false,
     "input": [
      "sub_trajfns = [get_relpath(p) for p in run.le_than(0)]"
     ],
     "language": "python",
     "metadata": {},
     "outputs": [],
     "prompt_number": 12
    },
    {
     "cell_type": "code",
     "collapsed": false,
     "input": [
      "models = run.config.modeller.multi_model(sub_trajfns, run.params, step_res)"
     ],
     "language": "python",
     "metadata": {},
     "outputs": [],
     "prompt_number": 19
    },
    {
     "cell_type": "code",
     "collapsed": false,
     "input": [
      "subconvs = [run.config.check_convergence(m, run.params) for m in models]"
     ],
     "language": "python",
     "metadata": {},
     "outputs": [
      {
       "output_type": "stream",
       "stream": "stderr",
       "text": [
        "/home/harrigan/opt/miniconda3/lib/python3.4/site-packages/mixtape-0.2-py3.4-linux-x86_64.egg/mixtape/markovstatemodel.py:561: RuntimeWarning: invalid value encountered in log\n",
        "  timescales = - self.lag_time / np.log(u[1:])\n"
       ]
      }
     ],
     "prompt_number": 21
    },
    {
     "cell_type": "code",
     "collapsed": false,
     "input": [
      "sublist = [(i+1, (i+1)/len(subconvs), int(conv.converged)) for i, conv in enumerate(subconvs)]"
     ],
     "language": "python",
     "metadata": {},
     "outputs": [],
     "prompt_number": 28
    },
    {
     "cell_type": "code",
     "collapsed": false,
     "input": [
      "import pandas as pd"
     ],
     "language": "python",
     "metadata": {},
     "outputs": [],
     "prompt_number": 27
    },
    {
     "cell_type": "code",
     "collapsed": false,
     "input": [
      "%matplotlib inline"
     ],
     "language": "python",
     "metadata": {},
     "outputs": [],
     "prompt_number": 33
    },
    {
     "cell_type": "code",
     "collapsed": false,
     "input": [
      "df = pd.DataFrame(sublist, columns=['sub_i', 'frac', 'converged'])\n",
      "df = df.set_index('sub_i')\n",
      "\n",
      "ma = pd.rolling_mean(df, 3)"
     ],
     "language": "python",
     "metadata": {},
     "outputs": [],
     "prompt_number": 42
    },
    {
     "cell_type": "code",
     "collapsed": false,
     "input": [
      "plt.plot(df.index, df['converged'], 'o-')\n",
      "plt.plot(ma.index, ma['converged'], 'o-')\n",
      "plt.axhline(0.5, c='r')\n",
      "plt.axvline(ma[ma['converged'] > 0.5].head(1).index, c='r')"
     ],
     "language": "python",
     "metadata": {},
     "outputs": [
      {
       "metadata": {},
       "output_type": "pyout",
       "prompt_number": 53,
       "text": [
        "<matplotlib.lines.Line2D at 0x7f7cd4f739e8>"
       ]
      },
      {
       "metadata": {},
       "output_type": "display_data",
       "png": "[encoded data removed]",
       "text": [
        "<matplotlib.figure.Figure at 0x7f7cd5175c18>"
       ]
      }
     ],
     "prompt_number": 53
    },
    {
     "cell_type": "code",
     "collapsed": false,
     "input": [
      "ma[ma['converged'] > 0.5].head(1).index"
     ],
     "language": "python",
     "metadata": {},
     "outputs": [
      {
       "metadata": {},
       "output_type": "pyout",
       "prompt_number": 51,
       "text": [
        "Int64Index([12], dtype='int64')"
       ]
      }
     ],
     "prompt_number": 51
    },
    {
     "cell_type": "code",
     "collapsed": false,
     "input": [],
     "language": "python",
     "metadata": {},
     "outputs": []
    }
   ],
   "metadata": {}
  }
 ]
}